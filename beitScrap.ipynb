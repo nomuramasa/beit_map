{
 "cells": [
  {
   "cell_type": "code",
   "execution_count": 99,
   "metadata": {},
   "outputs": [
    {
     "name": "stdout",
     "output_type": "stream",
     "text": [
      "['shotworks.jp/sw/detail/W004433571?wtk=1',\n",
      " 'shotworks.jp/sw/detail/R000157411',\n",
      " 'shotworks.jp/sw/detail/R000156973',\n",
      " 'shotworks.jp/sw/detail/W004433000?wtk=1',\n",
      " 'shotworks.jp/sw/detail/R000157458',\n",
      " 'shotworks.jp/sw/detail/R000157439',\n",
      " 'shotworks.jp/sw/detail/W004427533?wtk=1',\n",
      " 'shotworks.jp/sw/detail/R000157143',\n",
      " 'shotworks.jp/sw/detail/W004434003?wtk=1',\n",
      " 'shotworks.jp/sw/detail/W004432822?wtk=1',\n",
      " 'shotworks.jp/sw/detail/W004432815?wtk=1',\n",
      " 'shotworks.jp/sw/detail/R000157142',\n",
      " 'shotworks.jp/sw/detail/R000157076',\n",
      " 'shotworks.jp/sw/detail/W004432818?wtk=1',\n",
      " 'shotworks.jp/sw/detail/R000156975']\n"
     ]
    }
   ],
   "source": [
    "#バイト探しの際に利用するリスト\n",
    "\n",
    "import requests\n",
    "from bs4 import BeautifulSoup\n",
    "from urllib.parse import urlparse\n",
    "import pprint\n",
    "\n",
    "url = 'https://shotworks.jp/sw/list/a_01/wd_2019-01-18/fw_%E3%83%9E%E3%83%83%E3%82%AF%E3%82%B9%E3%82%B5%E3%83%9D%E3%83%BC%E3%83%88/work?istd=UA1lm8k&wtk=1&wdf=2019-01-12&sv='\n",
    "\n",
    "# ドメイン\n",
    "domain = urlparse(url).netloc\n",
    "\n",
    "#スクレイピング、リストに追加\n",
    "html = urllib.request.urlopen(url)\n",
    "soup = BeautifulSoup(html)\n",
    "\n",
    "details = []\n",
    "for name in soup.select(\"div.workinfo_inner > div.btn_wrapper > ul > li > a\") :\n",
    "    details.append(domain + name.get('href'))\n",
    "pprint.pprint(details)\n",
    "\n"
   ]
  },
  {
   "cell_type": "code",
   "execution_count": 137,
   "metadata": {},
   "outputs": [
    {
     "name": "stdout",
     "output_type": "stream",
     "text": [
      "千葉県市川市塩浜2丁目14-1 地図\n"
     ]
    }
   ],
   "source": [
    "url = 'https://shotworks.jp/sw/detail/W004433778?wtk=1'\n",
    "html = urllib.request.urlopen(url)\n",
    "soup = BeautifulSoup(html)\n",
    "address = soup.select(\"#traffic > dl > dd\") [0].text\n",
    "print(address)"
   ]
  }
 ],
 "metadata": {
  "kernelspec": {
   "display_name": "Python 3",
   "language": "python",
   "name": "python3"
  },
  "language_info": {
   "codemirror_mode": {
    "name": "ipython",
    "version": 3
   },
   "file_extension": ".py",
   "mimetype": "text/x-python",
   "name": "python",
   "nbconvert_exporter": "python",
   "pygments_lexer": "ipython3",
   "version": "3.6.6"
  }
 },
 "nbformat": 4,
 "nbformat_minor": 2
}
